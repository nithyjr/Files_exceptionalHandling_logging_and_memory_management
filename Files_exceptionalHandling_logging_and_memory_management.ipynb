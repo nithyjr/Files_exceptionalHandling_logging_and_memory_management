{
  "nbformat": 4,
  "nbformat_minor": 0,
  "metadata": {
    "colab": {
      "provenance": []
    },
    "kernelspec": {
      "name": "python3",
      "display_name": "Python 3"
    },
    "language_info": {
      "name": "python"
    }
  },
  "cells": [
    {
      "cell_type": "markdown",
      "source": [
        "1. What is the difference between interpreted and compiled languages?\n",
        "\n",
        "    **Interpreted languages:**\n",
        "\n",
        "           The source code is executed line by line by an interpreter (e.g., Python, Ruby). The interpreter reads the code, converts it to machine language, and then executes it. This can lead to slower execution, but it allows for more flexibility and ease of debugging.\n",
        "\n",
        "    **Compiled languages**:\n",
        "          \n",
        "          The source code is first compiled into machine code (binary) by a compiler (e.g., C, C++). The resulting machine code is then executed directly by the computer. This tends to result in faster execution but less flexibility compared to interpreted languages.\n",
        "\n",
        "2. What is exception handling in Python?\n",
        "\n",
        "          Exception handling in Python allows you to manage errors gracefully using try, except, else, and finally blocks. When an error occurs, Python can catch it and prevent the program from crashing, allowing the program to handle it appropriately or cleanly terminate.\n",
        "3. What is the purpose of the finally block in exception handling?\n",
        "\n",
        "          The finally block is used to execute code that must run regardless of whether an exception was raised or not. It is typically used for cleanup activities, such as closing files or releasing resources.\n",
        "    example:\n",
        "\n",
        "        try:\n",
        "            # some code that might raise an exception\n",
        "        finally:\n",
        "            # cleanup code that always runs\n",
        "4. What is logging in Python?\n",
        "\n",
        "        Logging is a way to track and record events, errors, or other information that occurs during the execution of a program. It helps developers monitor and debug applications.\n",
        "\n",
        "        Python’s logging module is used to write log messages, which can include information about application execution, errors, warnings, etc.\n",
        "\n",
        "      Example:\n",
        "\n",
        "          import logging\n",
        "          logging.basicConfig(level=logging.DEBUG)\n",
        "          logging.debug('This is a debug message.')\n",
        "          logging.info('This is an info message.')\n",
        "          logging.warning('This is a warning message.')\n",
        "          logging.error('This is an error message.')\n",
        "          logging.critical('This is a critical message.')\n",
        "\n",
        "5. What is the significance of the __del__ method in Python?\n",
        "\n",
        "        The __del__ method is a special method in Python, known as a destructor, which is called when an object is about to be destroyed. It is used to clean up resources (like closing files or database connections) when an object is no longer needed.\n",
        "\n",
        "        However, relying on __del__ for resource management is discouraged because Python’s garbage collector may not call __del__ immediately when an object goes out of scope.\n",
        "\n",
        "6. What is the difference between import and from ... import in Python?\n",
        "\n",
        "      import:\n",
        "          This imports the entire module, and you need to reference its functions or variables using the module name.\n",
        "\n",
        "    Example:\n",
        "      import math\n",
        "      result = math.sqrt(16)\n",
        "\n",
        "    from ... import:\n",
        "\n",
        "          This imports specific functions or variables directly, so you don’t need to reference the module name.\n",
        "    example:\n",
        "\n",
        "        from math import sqrt\n",
        "        result = sqrt(16)\n",
        "\n",
        "7. How can you handle multiple exceptions in Python?\n",
        "\n",
        "        You can handle multiple exceptions by specifying each one separately in a try-except block or by using a tuple.\n",
        "\n",
        "        try:\n",
        "            # code that might raise exceptions\n",
        "        except (TypeError, ValueError):\n",
        "            # handle either TypeError or ValueError\n",
        "\n",
        "        Or, by chaining multiple except blocks:\n",
        "\n",
        "        try:\n",
        "            # some code\n",
        "        except TypeError:\n",
        "            # handle TypeError\n",
        "        except ValueError:\n",
        "            # handle ValueError\n",
        "\n",
        "8. What is the purpose of the with statement when handling files in Python?\n",
        "\n",
        "        The with statement simplifies exception handling and ensures that resources (like files) are properly cleaned up after use. It automatically closes the file when the block of code inside the with statement is executed, even if an error occurs.\n",
        "    Example:\n",
        "\n",
        "        with open('file.txt', 'r') as file:\n",
        "            content = file.read()\n",
        "      \n",
        "9. What is the difference between multithreading and multiprocessing?\n",
        "\n",
        "    multithreading:\n",
        "\n",
        "      Multithreading involves running multiple threads within a single process, sharing the same memory space. It is suited for I/O-bound tasks where the program spends time waiting for input/output operations.\n",
        "\n",
        "    multiprocessing:\n",
        "\n",
        "      Multiprocessing involves running multiple processes, each with its own memory space. It is ideal for CPU-bound tasks, where the program performs heavy calculations.\n",
        "\n",
        "10. What are the advantages of using logging in a program?\n",
        "\n",
        "        Persistent records:\n",
        "             Logging creates a record of events, making it easier to trace what happened in your application.\n",
        "\n",
        "        Granular levels:\n",
        "              You can define different levels of importance (e.g., debug, info, warning, error, critical).\n",
        "\n",
        "        Post-mortem debugging:\n",
        "              Logs provide valuable information for debugging after an issue has occurred.\n",
        "\n",
        "        Non-intrusive:\n",
        "             Logging can be disabled or redirected to files, so it doesn’t interfere with the user interface.\n",
        "\n",
        "11. What is memory management in Python?\n",
        "\n",
        "        Memory management in Python is handled by the Python memory manager and garbage collector. It involves allocating and deallocating memory dynamically for objects as needed. Python uses reference counting and cyclic garbage collection to manage memory effectively.\n",
        "\n",
        "12. What are the basic steps involved in exception handling in Python?\n",
        "\n",
        "      Try Block:\n",
        "             Wrap the code that might raise an exception in a try block.\n",
        "      Except Block:\n",
        "             Catch the exception using one or more except blocks and define the handling behavior.\n",
        "      Else Block:\n",
        "              (Optional) Code that runs if no exceptions are raised.\n",
        "      Finally Block:\n",
        "              (Optional) Code that always runs, regardless of whether an exception was raised or not.\n",
        "\n",
        "13. Why is memory management important in Python?\n",
        "\n",
        "      Memory management is crucial to avoid memory leaks (where memory is not freed when no longer needed), optimize the performance of an application, and ensure that resources are efficiently used. Python’s automatic garbage collection helps manage memory, but developers should still be mindful of resource management.\n",
        "\n",
        "14. What is the role of try and except in exception handling?\n",
        "\n",
        "      try:\n",
        "\n",
        "          The block of code that is executed, which may potentially raise an exception.\n",
        "\n",
        "      except:\n",
        "\n",
        "          The block of code that is executed if an exception occurs in the try block. It allows you to handle the exception and prevent the program from crashing.\n",
        "\n",
        "15. How does Python’s garbage collection system work?\n",
        "\n",
        "      Python uses reference counting and cyclic garbage collection to manage memory. When an object’s reference count drops to zero, it is automatically deleted. Python’s garbage collector also detects cyclic references (e.g., objects that refer to each other) and cleans them up.\n",
        "\n",
        "16. What is the purpose of the else block in exception handling?\n",
        "\n",
        "      The else block is executed if no exception occurs in the try block. It’s useful for code that should only run when no errors have been raised.\n",
        "\n",
        "17. What are the logging levels in Python?\n",
        "\n",
        "      The logging levels are used to indicate the severity of messages. They are as follows, from the least to the most severe:\n",
        "            DEBUG\n",
        "            INFO\n",
        "            WARNING\n",
        "            ERROR\n",
        "            CRITICAL\n",
        "\n",
        "18. What is the difference between os.fork() and multiprocessing in Python?\n",
        "\n",
        "      os.fork(): Forks the current process into a child process in UNIX-like systems. It’s a low-level operation and shares the same memory space.\n",
        "\n",
        "      Multiprocessing: Involves creating separate processes with their own memory space. It is higher-level and works across different platforms.\n",
        "\n",
        "19. What is the importance of using files in Python?\n",
        "\n",
        "      Files are essential for saving data persistently, reading external data, logging application events, and interacting with external systems.\n",
        "\n",
        "20. What is the difference between file.read() and file.readline() in Python?\n",
        "\n",
        "      file.read(): Reads the entire contents of the file as a single string.\n",
        "\n",
        "      file.readline(): Reads the next line of the file as a string. It is useful when processing large files line-by-line.\n",
        "\n",
        "21. What is the logging module in Python used for?\n",
        "\n",
        "        The logging module in Python is used for generating logs to keep track of events, errors, warnings, and other information within an application.\n",
        "\n",
        "22. What is the os module in Python used for in file handling?\n",
        "\n",
        "      The os module provides functions for interacting with the operating system, including file and directory manipulation.\n",
        "\n",
        "23. What are the challenges associated with memory management in Python?\n",
        "\n",
        "      Memory leaks:\n",
        "            If objects are not properly referenced or cleared, memory can be consumed without being released.\n",
        "\n",
        "      Circular references:\n",
        "            Objects referring to each other can prevent garbage collection from cleaning them up.\n",
        "\n",
        "      Large memory footprint:\n",
        "            Some data structures or poorly optimized code can lead to high memory usage.\n",
        "\n",
        "24. How do you raise an exception manually in Python?\n",
        "\n",
        "      You can raise an exception using the raise keyword:\n",
        "\n",
        "            raise ValueError(\"This is an error message\")\n",
        "\n",
        "\n",
        "25. Why is it important to use multithreading in certain applications?\n",
        "\n",
        "      Multithreading is important in certain applications, especially those that are I/O-bound or need to perform concurrent operations. Here are some reasons why multithreading is beneficial in these cases:\n",
        "\n",
        "      Efficiency in I/O-bound tasks: Multithreading can improve the efficiency of programs that spend a lot of time waiting for I/O operations (like reading from or writing to files, network requests, etc.). While one thread is waiting for I/O, other threads can continue processing other tasks, reducing idle time.\n",
        "\n",
        "\n",
        "\n",
        "\n"
      ],
      "metadata": {
        "id": "ALCUzCGHrx7Z"
      }
    },
    {
      "cell_type": "code",
      "execution_count": 1,
      "metadata": {
        "id": "XZsD23KHrw_M"
      },
      "outputs": [],
      "source": [
        "# 1. How can you open a file for writing in Python and write a string to it?\n",
        "with open('example.txt', 'w') as file:\n",
        "    file.write(\"Hello, world!\")\n"
      ]
    },
    {
      "cell_type": "code",
      "source": [
        "# 2. Write a Python program to read the contents of a file and print each line.\n",
        "\n",
        "with open('example.txt', 'r') as file:\n",
        "    for line in file:\n",
        "        print(line.strip()) # `strip()` removes the newline character at the end of each line"
      ],
      "metadata": {
        "colab": {
          "base_uri": "https://localhost:8080/"
        },
        "id": "Nko7wfnVXh0F",
        "outputId": "0d03e137-49e3-4f54-fed0-2d0b7bc5420c"
      },
      "execution_count": 4,
      "outputs": [
        {
          "output_type": "stream",
          "name": "stdout",
          "text": [
            "Hello, world!\n"
          ]
        }
      ]
    },
    {
      "cell_type": "code",
      "source": [
        "# 3. How would you handle a case where the file doesn't exist while trying to open it for reading?\n",
        "# You can use a try-except block to handle this error:\n",
        "\n",
        "\n",
        "try:\n",
        "    with open('nonexistent_file.txt', 'r') as file:\n",
        "        content = file.read()\n",
        "except FileNotFoundError:\n",
        "    print(\"File not found!\")"
      ],
      "metadata": {
        "colab": {
          "base_uri": "https://localhost:8080/"
        },
        "id": "E8Tk2woGXyVJ",
        "outputId": "5120ddf2-4d02-4831-bba7-0b59422d7790"
      },
      "execution_count": 6,
      "outputs": [
        {
          "output_type": "stream",
          "name": "stdout",
          "text": [
            "File not found!\n"
          ]
        }
      ]
    },
    {
      "cell_type": "code",
      "source": [
        "# 4. Write a Python script that reads from one file and writes its content to another file.\n",
        "# Define the paths for the source and destination files\n",
        "source_file = 'source.txt'\n",
        "destination_file = 'destination.txt'\n",
        "\n",
        "try:\n",
        "    # Open the source file in read mode and the destination file in write mode\n",
        "    with open(source_file, 'r') as src, open(destination_file, 'w') as dest:\n",
        "        # Read the content of the source file\n",
        "        content = src.read()\n",
        "\n",
        "        # Write the content to the destination file\n",
        "        dest.write(content)\n",
        "\n",
        "    print(f\"Content successfully copied from {source_file} to {destination_file}\")\n",
        "\n",
        "except FileNotFoundError:\n",
        "    print(f\"Error: The file {source_file} was not found.\")\n",
        "except Exception as e:\n",
        "    print(f\"An error occurred: {e}\")\n",
        "\n"
      ],
      "metadata": {
        "colab": {
          "base_uri": "https://localhost:8080/"
        },
        "id": "FW_ZGB0UX-Sg",
        "outputId": "93986fef-f82d-4b0c-97a9-942f882e23a9"
      },
      "execution_count": 8,
      "outputs": [
        {
          "output_type": "stream",
          "name": "stdout",
          "text": [
            "Error: The file source.txt was not found.\n"
          ]
        }
      ]
    },
    {
      "cell_type": "code",
      "source": [
        "# 5. How would you catch and handle a division by zero error in Python?\n",
        "\n",
        "\n",
        "try:\n",
        "    result = 10 / 0\n",
        "except ZeroDivisionError:\n",
        "    print(\"Cannot divide by zero!\")"
      ],
      "metadata": {
        "colab": {
          "base_uri": "https://localhost:8080/"
        },
        "id": "_pHvF7GdYYOo",
        "outputId": "b66389c5-1bc3-4806-d983-fa3c83b3ec0c"
      },
      "execution_count": 9,
      "outputs": [
        {
          "output_type": "stream",
          "name": "stdout",
          "text": [
            "Cannot divide by zero!\n"
          ]
        }
      ]
    },
    {
      "cell_type": "code",
      "source": [
        "# 6. Write a Python program that logs an error message to a log file when a division by zero exception occurs.\n",
        "import logging\n",
        "\n",
        "logging.basicConfig(filename='error.log', level=logging.ERROR)\n",
        "\n",
        "try:\n",
        "    result = 10 / 0\n",
        "except ZeroDivisionError:\n",
        "    logging.error(\"Division by zero error occurred!\")"
      ],
      "metadata": {
        "colab": {
          "base_uri": "https://localhost:8080/"
        },
        "id": "CuTjsMpVYivh",
        "outputId": "5c95d82c-f6a4-493c-afe1-1720dc37ddb5"
      },
      "execution_count": 10,
      "outputs": [
        {
          "output_type": "stream",
          "name": "stderr",
          "text": [
            "ERROR:root:Division by zero error occurred!\n"
          ]
        }
      ]
    },
    {
      "cell_type": "code",
      "source": [
        "# 7. How do you log information at different levels (INFO, ERROR, WARNING) in Python using the logging module?\n",
        "\n",
        "import logging\n",
        "\n",
        "logging.basicConfig(level=logging.DEBUG)\n",
        "\n",
        "logging.debug('This is a debug message')\n",
        "logging.info('This is an info message')\n",
        "logging.warning('This is a warning message')\n",
        "logging.error('This is an error message')\n",
        "logging.critical('This is a critical message')"
      ],
      "metadata": {
        "colab": {
          "base_uri": "https://localhost:8080/"
        },
        "id": "2NYEcPqNYuon",
        "outputId": "cba09ad3-0bba-4055-96b7-f3cfa7df83af"
      },
      "execution_count": 11,
      "outputs": [
        {
          "output_type": "stream",
          "name": "stderr",
          "text": [
            "WARNING:root:This is a warning message\n",
            "ERROR:root:This is an error message\n",
            "CRITICAL:root:This is a critical message\n"
          ]
        }
      ]
    },
    {
      "cell_type": "code",
      "source": [
        "# 8. Write a program to handle a file opening error using exception handling.\n",
        "\n",
        "try:\n",
        "    with open('nonexistent_file.txt', 'r') as file:\n",
        "        content = file.read()\n",
        "except FileNotFoundError:\n",
        "    print(\"Error: The file does not exist.\")"
      ],
      "metadata": {
        "colab": {
          "base_uri": "https://localhost:8080/"
        },
        "id": "0Nb1SP-hYx9f",
        "outputId": "ec749235-313c-4973-b032-3f1328c8157d"
      },
      "execution_count": 12,
      "outputs": [
        {
          "output_type": "stream",
          "name": "stdout",
          "text": [
            "Error: The file does not exist.\n"
          ]
        }
      ]
    },
    {
      "cell_type": "code",
      "source": [
        "# 9. How can you read a file line by line and store its content in a list in Python?\n",
        "\n",
        "lines = []\n",
        "with open('example.txt', 'r') as file:\n",
        "    for line in file:\n",
        "        lines.append(line.strip())  # strip() removes leading/trailing whitespace\n",
        "print(lines)"
      ],
      "metadata": {
        "colab": {
          "base_uri": "https://localhost:8080/"
        },
        "id": "zin7483FY4Ev",
        "outputId": "9d62e970-193e-4243-e9b7-a8dfbb9723a0"
      },
      "execution_count": 13,
      "outputs": [
        {
          "output_type": "stream",
          "name": "stdout",
          "text": [
            "['Hello, world!']\n"
          ]
        }
      ]
    },
    {
      "cell_type": "code",
      "source": [
        "# 10. How can you append data to an existing file in Python?\n",
        "with open('example.txt', 'a') as file:\n",
        "    file.write(\"Appended text.\")\n",
        "with open('example.txt', 'r') as file:\n",
        "    z=file.read()\n",
        "print(z)"
      ],
      "metadata": {
        "colab": {
          "base_uri": "https://localhost:8080/"
        },
        "id": "mmeJDQfmY-b-",
        "outputId": "99f1afca-7f85-4364-ed46-7a10cd443893"
      },
      "execution_count": 20,
      "outputs": [
        {
          "output_type": "stream",
          "name": "stdout",
          "text": [
            "Hello, world!Appended text.Appended text.\n"
          ]
        }
      ]
    },
    {
      "cell_type": "code",
      "source": [
        "# 11. Write a Python program that uses a try-except block to handle an error when attempting to access a dictionary key that doesn't exist.\n",
        "\n",
        "my_dict = {\"name\": \"Alice\", \"age\": 30}\n",
        "\n",
        "try:\n",
        "    value = my_dict[\"address\"]\n",
        "except KeyError:\n",
        "    print(\"Key not found in dictionary!\")"
      ],
      "metadata": {
        "colab": {
          "base_uri": "https://localhost:8080/"
        },
        "id": "xH4gYQXKZvqK",
        "outputId": "944ec212-5a7d-49cd-96dd-0fcc3ea26269"
      },
      "execution_count": 21,
      "outputs": [
        {
          "output_type": "stream",
          "name": "stdout",
          "text": [
            "Key not found in dictionary!\n"
          ]
        }
      ]
    },
    {
      "cell_type": "code",
      "source": [
        "# 12. Write a program that demonstrates the use of multiple exception blocks to handle different types of exceptions.\n",
        "\n",
        "def demo_multiple_exceptions():\n",
        "    try:\n",
        "        # Example 1: Handling division by zero error\n",
        "        num1 = int(input(\"Enter the numerator: \"))\n",
        "        num2 = int(input(\"Enter the denominator: \"))\n",
        "        result = num1 / num2\n",
        "        print(f\"Result of division: {result}\")\n",
        "\n",
        "        # Example 2: Handling file operation errors\n",
        "        file_name = input(\"Enter the name of the file to open: \")\n",
        "        with open(file_name, 'r') as file:\n",
        "            content = file.read()\n",
        "            print(f\"File content:\\n{content}\")\n",
        "\n",
        "    except ZeroDivisionError as e:\n",
        "        print(f\"Error: Cannot divide by zero! ({e})\")\n",
        "\n",
        "    except ValueError as e:\n",
        "        print(f\"Error: Invalid input! Please enter a valid integer. ({e})\")\n",
        "\n",
        "    except FileNotFoundError as e:\n",
        "        print(f\"Error: The file '{file_name}' was not found. ({e})\")\n",
        "\n",
        "    except Exception as e:\n",
        "        print(f\"An unexpected error occurred: {e}\")\n",
        "    finally:\n",
        "        print(\"Execution of the program is complete.\")\n",
        "\n",
        "# Call the function to run the program\n",
        "demo_multiple_exceptions()\n"
      ],
      "metadata": {
        "colab": {
          "base_uri": "https://localhost:8080/"
        },
        "id": "U844q9c1aBBm",
        "outputId": "183f5de7-98ce-4271-f221-731d3a1030ec"
      },
      "execution_count": 26,
      "outputs": [
        {
          "output_type": "stream",
          "name": "stdout",
          "text": [
            "Enter the numerator: 50\n",
            "Enter the denominator: 5\n",
            "Result of division: 10.0\n",
            "Enter the name of the file to open: example.txt\n",
            "File content:\n",
            "Hello, world!\n",
            "Execution of the program is complete.\n"
          ]
        }
      ]
    },
    {
      "cell_type": "code",
      "source": [
        "# 13. How would you check if a file exists before attempting to read it in Python?\n",
        "\n",
        "from pathlib import Path\n",
        "\n",
        "# File path to check\n",
        "file_path = Path('example.txt')\n",
        "\n",
        "# Check if the file exists before reading it\n",
        "if file_path.exists():\n",
        "    with open(file_path, 'r') as file:\n",
        "        content = file.read()\n",
        "        print(\"File content:\", content)\n",
        "else:\n",
        "    print(f\"The file {file_path} does not exist.\")\n"
      ],
      "metadata": {
        "colab": {
          "base_uri": "https://localhost:8080/"
        },
        "id": "gfOJqil6arEE",
        "outputId": "7ff246cb-bdc0-4be7-e0f6-d3e246b52a4b"
      },
      "execution_count": 28,
      "outputs": [
        {
          "output_type": "stream",
          "name": "stdout",
          "text": [
            "File content: Hello, world!\n"
          ]
        }
      ]
    },
    {
      "cell_type": "code",
      "source": [
        "# 14. Write a program that uses the logging module to log both informational and error messages.\n",
        "\n",
        "import logging\n",
        "\n",
        "# Configure the logging system\n",
        "logging.basicConfig(\n",
        "    level=logging.DEBUG,  # Set the logging level (DEBUG to capture all messages)\n",
        "    format='%(asctime)s - %(levelname)s - %(message)s',  # Log format (timestamp, log level, message)\n",
        "    handlers=[\n",
        "        logging.StreamHandler()  # Output logs to console (you can also write to a file)\n",
        "    ]\n",
        ")\n",
        "\n",
        "# Function to demonstrate logging\n",
        "def demo_logging():\n",
        "    try:\n",
        "        # Log an informational message\n",
        "        logging.info(\"This is an informational message.\")\n",
        "\n",
        "        # Simulate some process\n",
        "        number = 10\n",
        "        logging.debug(f\"Starting process with number: {number}\")\n",
        "\n",
        "        # Simulate an error (divide by zero)\n",
        "        result = number / 0  # This will raise a ZeroDivisionError\n",
        "\n",
        "    except ZeroDivisionError as e:\n",
        "        # Log an error message\n",
        "        logging.error(f\"An error occurred: {e}\")\n",
        "\n",
        "    except Exception as e:\n",
        "        # Log any other unexpected errors\n",
        "        logging.critical(f\"Unexpected error: {e}\")\n",
        "\n",
        "# Call the demo function\n",
        "demo_logging()\n"
      ],
      "metadata": {
        "colab": {
          "base_uri": "https://localhost:8080/"
        },
        "id": "sUPOyAW-a7eW",
        "outputId": "372250ad-71da-4e19-c6ee-5d50ac7797ee"
      },
      "execution_count": 30,
      "outputs": [
        {
          "output_type": "stream",
          "name": "stderr",
          "text": [
            "ERROR:root:An error occurred: division by zero\n"
          ]
        }
      ]
    },
    {
      "cell_type": "code",
      "source": [
        "# 15. Write a Python program that prints the content of a file and handles the case when the file is empty.\n",
        "\n",
        "try:\n",
        "    with open('example.txt', 'r') as file:\n",
        "        content = file.read()\n",
        "        if not content:\n",
        "            print(\"The file is empty.\")\n",
        "        else:\n",
        "            print(content)\n",
        "except FileNotFoundError:\n",
        "    print(\"File not found.\")"
      ],
      "metadata": {
        "colab": {
          "base_uri": "https://localhost:8080/"
        },
        "id": "dx-0KNFybH9W",
        "outputId": "8387bbb1-5487-4e83-8920-849d98cebcad"
      },
      "execution_count": 31,
      "outputs": [
        {
          "output_type": "stream",
          "name": "stdout",
          "text": [
            "Hello, world!\n"
          ]
        }
      ]
    },
    {
      "cell_type": "code",
      "source": [
        "pip install memory-profiler\n"
      ],
      "metadata": {
        "colab": {
          "base_uri": "https://localhost:8080/"
        },
        "id": "mRAtdo_Yba_G",
        "outputId": "29fb72e6-f3fd-45d7-cd4c-cd58d1734264"
      },
      "execution_count": 33,
      "outputs": [
        {
          "output_type": "stream",
          "name": "stdout",
          "text": [
            "Collecting memory-profiler\n",
            "  Downloading memory_profiler-0.61.0-py3-none-any.whl.metadata (20 kB)\n",
            "Requirement already satisfied: psutil in /usr/local/lib/python3.10/dist-packages (from memory-profiler) (5.9.5)\n",
            "Downloading memory_profiler-0.61.0-py3-none-any.whl (31 kB)\n",
            "Installing collected packages: memory-profiler\n",
            "Successfully installed memory-profiler-0.61.0\n"
          ]
        }
      ]
    },
    {
      "cell_type": "code",
      "source": [
        "# 16. Demonstrate how to use memory profiling to check the memory usage of a small program.\n",
        "\n",
        "from memory_profiler import profile\n",
        "\n",
        "@profile\n",
        "def my_function():\n",
        "    x = [i for i in range(10000)]\n",
        "    return x\n",
        "\n",
        "if __name__ == '__main__':\n",
        "    my_function()"
      ],
      "metadata": {
        "id": "nb2IYt7wbSRu"
      },
      "execution_count": 35,
      "outputs": []
    },
    {
      "cell_type": "code",
      "source": [
        "# 17. Write a Python program to read and write a list of numbers to a file, one number per line.\n",
        "\n",
        "numbers = [1, 2, 3, 4, 5]\n",
        "\n",
        "# Write numbers to a file\n",
        "with open('numbers.txt', 'w') as file:\n",
        "    for number in numbers:\n",
        "        file.write(f\"{number}\\n\")\n",
        "\n",
        "# Read numbers from the file\n",
        "with open('numbers.txt', 'r') as file:\n",
        "    for line in file:\n",
        "        print(line.strip())\n"
      ],
      "metadata": {
        "colab": {
          "base_uri": "https://localhost:8080/"
        },
        "id": "zRqKwfOlW9Ol",
        "outputId": "95f52aea-a67f-4d64-8bec-8c012adf8a60"
      },
      "execution_count": 36,
      "outputs": [
        {
          "output_type": "stream",
          "name": "stdout",
          "text": [
            "1\n",
            "2\n",
            "3\n",
            "4\n",
            "5\n"
          ]
        }
      ]
    },
    {
      "cell_type": "code",
      "source": [
        "# 18. How would you implement a logging system that logs to a file with rotation after 1MB?\n",
        "\n",
        "import logging\n",
        "from logging.handlers import RotatingFileHandler\n",
        "\n",
        "handler = RotatingFileHandler('app.log', maxBytes=1e6, backupCount=3)\n",
        "logging.basicConfig(level=logging.INFO, handlers=[handler])\n",
        "\n",
        "logging.info(\"This is a log message.\")\n"
      ],
      "metadata": {
        "id": "PcCQfqiKbspV"
      },
      "execution_count": 37,
      "outputs": []
    },
    {
      "cell_type": "code",
      "source": [
        "# 19. Write a program that handles both IndexError and KeyError using a try-except block.\n",
        "\n",
        "my_list = [1, 2, 3]\n",
        "my_dict = {\"name\": \"Alice\"}\n",
        "\n",
        "try:\n",
        "    print(my_list[5])\n",
        "except IndexError:\n",
        "    print(\"Index out of range.\")\n",
        "\n",
        "try:\n",
        "    print(my_dict[\"age\"])\n",
        "except KeyError:\n",
        "    print(\"Key not found in dictionary.\")\n"
      ],
      "metadata": {
        "colab": {
          "base_uri": "https://localhost:8080/"
        },
        "id": "yIU5E2_NbxvT",
        "outputId": "8dc5e163-84eb-45e1-e5c9-872617cfd53a"
      },
      "execution_count": 38,
      "outputs": [
        {
          "output_type": "stream",
          "name": "stdout",
          "text": [
            "Index out of range.\n",
            "Key not found in dictionary.\n"
          ]
        }
      ]
    },
    {
      "cell_type": "code",
      "source": [
        "# 20. How would you open a file and read its contents using a context manager in Python?\n",
        "\n",
        "with open('example.txt', 'r') as file:\n",
        "    content = file.read()\n",
        "    print(content)"
      ],
      "metadata": {
        "colab": {
          "base_uri": "https://localhost:8080/"
        },
        "id": "zVxKhnTSb1_4",
        "outputId": "f8788934-9ab6-42fc-c446-28be643eaf82"
      },
      "execution_count": 39,
      "outputs": [
        {
          "output_type": "stream",
          "name": "stdout",
          "text": [
            "Hello, world!\n"
          ]
        }
      ]
    },
    {
      "cell_type": "code",
      "source": [
        "# 21. Write a Python program that reads a file and prints the number of occurrences of a specific word.\n",
        "\n",
        "word_to_search = \"Python\"\n",
        "count = 0\n",
        "\n",
        "with open('example.txt', 'r') as file:\n",
        "    for line in file:\n",
        "        count += line.lower().count(word_to_search.lower())\n",
        "\n",
        "print(f\"The word '{word_to_search}' appeared {count} times.\")"
      ],
      "metadata": {
        "colab": {
          "base_uri": "https://localhost:8080/"
        },
        "id": "lZaSWTu7b7tK",
        "outputId": "e74178a8-4151-4469-e868-525306860a58"
      },
      "execution_count": 40,
      "outputs": [
        {
          "output_type": "stream",
          "name": "stdout",
          "text": [
            "The word 'Python' appeared 0 times.\n"
          ]
        }
      ]
    },
    {
      "cell_type": "code",
      "source": [
        "# 22. How can you check if a file is empty before attempting to read its contents?\n",
        "\n",
        "import os\n",
        "\n",
        "if os.path.getsize('example.txt') == 0:\n",
        "    print(\"The file is empty.\")\n",
        "else:\n",
        "    with open('example.txt', 'r') as file:\n",
        "        content = file.read()\n",
        "        print(content)"
      ],
      "metadata": {
        "colab": {
          "base_uri": "https://localhost:8080/"
        },
        "id": "IZpAPjvhb_y4",
        "outputId": "9a331dfc-fccf-4535-8f28-21626fe94584"
      },
      "execution_count": 41,
      "outputs": [
        {
          "output_type": "stream",
          "name": "stdout",
          "text": [
            "Hello, world!\n"
          ]
        }
      ]
    },
    {
      "cell_type": "code",
      "source": [
        "\n",
        "# 23. Write a Python program that writes to a log file when an error occurs during file handling.\n",
        "\n",
        "import logging\n",
        "\n",
        "logging.basicConfig(filename='error.log', level=logging.ERROR)\n",
        "\n",
        "try:\n",
        "    with open('example.txt', 'r') as file:\n",
        "        content = file.read()\n",
        "except FileNotFoundError:\n",
        "    logging.error(\"The file was not found.\")\n",
        "except Exception as e:\n",
        "    logging.error(f\"An unexpected error occurred: {e}\")"
      ],
      "metadata": {
        "id": "OeQvcgiAcD3F"
      },
      "execution_count": 42,
      "outputs": []
    },
    {
      "cell_type": "code",
      "source": [],
      "metadata": {
        "id": "WShgP4sDcFvZ"
      },
      "execution_count": null,
      "outputs": []
    }
  ]
}